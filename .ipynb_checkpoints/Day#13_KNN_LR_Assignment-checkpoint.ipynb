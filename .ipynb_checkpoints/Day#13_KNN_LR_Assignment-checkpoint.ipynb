{
 "cells": [
  {
   "cell_type": "markdown",
   "metadata": {
    "colab_type": "text",
    "id": "LWd1UlMnhT2s"
   },
   "source": [
    "## Importing the libraries"
   ]
  },
  {
   "cell_type": "code",
   "execution_count": 19,
   "metadata": {
    "colab": {},
    "colab_type": "code",
    "id": "YvGPUQaHhXfL"
   },
   "outputs": [],
   "source": [
    "import warnings\n",
    "warnings.filterwarnings(\"ignore\")\n",
    "import numpy as np\n",
    "import matplotlib.pyplot as plt\n",
    "import pandas as pd\n",
    "import seaborn as sns\n",
    "\n",
    "from sklearn.model_selection import train_test_split\n",
    "from sklearn.preprocessing import StandardScaler\n",
    "from sklearn.linear_model import LogisticRegression\n",
    "from sklearn.metrics import accuracy_score\n",
    "\n",
    "from sklearn.metrics import plot_confusion_matrix\n",
    "from sklearn.metrics import confusion_matrix"
   ]
  },
  {
   "cell_type": "markdown",
   "metadata": {
    "colab_type": "text",
    "id": "K1VMqkGvhc3-"
   },
   "source": [
    "## Loading the dataset"
   ]
  },
  {
   "cell_type": "code",
   "execution_count": 20,
   "metadata": {
    "colab": {},
    "colab_type": "code",
    "id": "M52QDmyzhh9s"
   },
   "outputs": [],
   "source": [
    "dataset = pd.read_csv('Social_Network_Ads.csv')"
   ]
  },
  {
   "cell_type": "code",
   "execution_count": 21,
   "metadata": {},
   "outputs": [
    {
     "data": {
      "text/html": [
       "<div>\n",
       "<style scoped>\n",
       "    .dataframe tbody tr th:only-of-type {\n",
       "        vertical-align: middle;\n",
       "    }\n",
       "\n",
       "    .dataframe tbody tr th {\n",
       "        vertical-align: top;\n",
       "    }\n",
       "\n",
       "    .dataframe thead th {\n",
       "        text-align: right;\n",
       "    }\n",
       "</style>\n",
       "<table border=\"1\" class=\"dataframe\">\n",
       "  <thead>\n",
       "    <tr style=\"text-align: right;\">\n",
       "      <th></th>\n",
       "      <th>User ID</th>\n",
       "      <th>Gender</th>\n",
       "      <th>Age</th>\n",
       "      <th>EstimatedSalary</th>\n",
       "      <th>Purchased</th>\n",
       "    </tr>\n",
       "  </thead>\n",
       "  <tbody>\n",
       "    <tr>\n",
       "      <th>0</th>\n",
       "      <td>15624510</td>\n",
       "      <td>Male</td>\n",
       "      <td>19</td>\n",
       "      <td>19000</td>\n",
       "      <td>0</td>\n",
       "    </tr>\n",
       "    <tr>\n",
       "      <th>1</th>\n",
       "      <td>15810944</td>\n",
       "      <td>Male</td>\n",
       "      <td>35</td>\n",
       "      <td>20000</td>\n",
       "      <td>0</td>\n",
       "    </tr>\n",
       "    <tr>\n",
       "      <th>2</th>\n",
       "      <td>15668575</td>\n",
       "      <td>Female</td>\n",
       "      <td>26</td>\n",
       "      <td>43000</td>\n",
       "      <td>0</td>\n",
       "    </tr>\n",
       "    <tr>\n",
       "      <th>3</th>\n",
       "      <td>15603246</td>\n",
       "      <td>Female</td>\n",
       "      <td>27</td>\n",
       "      <td>57000</td>\n",
       "      <td>0</td>\n",
       "    </tr>\n",
       "    <tr>\n",
       "      <th>4</th>\n",
       "      <td>15804002</td>\n",
       "      <td>Male</td>\n",
       "      <td>19</td>\n",
       "      <td>76000</td>\n",
       "      <td>0</td>\n",
       "    </tr>\n",
       "  </tbody>\n",
       "</table>\n",
       "</div>"
      ],
      "text/plain": [
       "    User ID  Gender  Age  EstimatedSalary  Purchased\n",
       "0  15624510    Male   19            19000          0\n",
       "1  15810944    Male   35            20000          0\n",
       "2  15668575  Female   26            43000          0\n",
       "3  15603246  Female   27            57000          0\n",
       "4  15804002    Male   19            76000          0"
      ]
     },
     "execution_count": 21,
     "metadata": {},
     "output_type": "execute_result"
    }
   ],
   "source": [
    "dataset.head()"
   ]
  },
  {
   "cell_type": "code",
   "execution_count": 22,
   "metadata": {},
   "outputs": [
    {
     "name": "stdout",
     "output_type": "stream",
     "text": [
      "<class 'pandas.core.frame.DataFrame'>\n",
      "RangeIndex: 400 entries, 0 to 399\n",
      "Data columns (total 5 columns):\n",
      " #   Column           Non-Null Count  Dtype \n",
      "---  ------           --------------  ----- \n",
      " 0   User ID          400 non-null    int64 \n",
      " 1   Gender           400 non-null    object\n",
      " 2   Age              400 non-null    int64 \n",
      " 3   EstimatedSalary  400 non-null    int64 \n",
      " 4   Purchased        400 non-null    int64 \n",
      "dtypes: int64(4), object(1)\n",
      "memory usage: 15.8+ KB\n"
     ]
    }
   ],
   "source": [
    "dataset.info()"
   ]
  },
  {
   "cell_type": "markdown",
   "metadata": {},
   "source": [
    "## Define X by selecting only the age and EstimatedSalary, and y with purchased column"
   ]
  },
  {
   "cell_type": "code",
   "execution_count": 23,
   "metadata": {},
   "outputs": [],
   "source": [
    "X = dataset[['Age', 'EstimatedSalary']]"
   ]
  },
  {
   "cell_type": "code",
   "execution_count": 24,
   "metadata": {
    "scrolled": true
   },
   "outputs": [
    {
     "data": {
      "text/html": [
       "<div>\n",
       "<style scoped>\n",
       "    .dataframe tbody tr th:only-of-type {\n",
       "        vertical-align: middle;\n",
       "    }\n",
       "\n",
       "    .dataframe tbody tr th {\n",
       "        vertical-align: top;\n",
       "    }\n",
       "\n",
       "    .dataframe thead th {\n",
       "        text-align: right;\n",
       "    }\n",
       "</style>\n",
       "<table border=\"1\" class=\"dataframe\">\n",
       "  <thead>\n",
       "    <tr style=\"text-align: right;\">\n",
       "      <th></th>\n",
       "      <th>Age</th>\n",
       "      <th>EstimatedSalary</th>\n",
       "    </tr>\n",
       "  </thead>\n",
       "  <tbody>\n",
       "    <tr>\n",
       "      <th>0</th>\n",
       "      <td>19</td>\n",
       "      <td>19000</td>\n",
       "    </tr>\n",
       "    <tr>\n",
       "      <th>1</th>\n",
       "      <td>35</td>\n",
       "      <td>20000</td>\n",
       "    </tr>\n",
       "    <tr>\n",
       "      <th>2</th>\n",
       "      <td>26</td>\n",
       "      <td>43000</td>\n",
       "    </tr>\n",
       "    <tr>\n",
       "      <th>3</th>\n",
       "      <td>27</td>\n",
       "      <td>57000</td>\n",
       "    </tr>\n",
       "    <tr>\n",
       "      <th>4</th>\n",
       "      <td>19</td>\n",
       "      <td>76000</td>\n",
       "    </tr>\n",
       "  </tbody>\n",
       "</table>\n",
       "</div>"
      ],
      "text/plain": [
       "   Age  EstimatedSalary\n",
       "0   19            19000\n",
       "1   35            20000\n",
       "2   26            43000\n",
       "3   27            57000\n",
       "4   19            76000"
      ]
     },
     "execution_count": 24,
     "metadata": {},
     "output_type": "execute_result"
    }
   ],
   "source": [
    "X.head()"
   ]
  },
  {
   "cell_type": "code",
   "execution_count": 25,
   "metadata": {},
   "outputs": [],
   "source": [
    "y = dataset['Purchased']"
   ]
  },
  {
   "cell_type": "code",
   "execution_count": 26,
   "metadata": {},
   "outputs": [
    {
     "data": {
      "text/plain": [
       "0    0\n",
       "1    0\n",
       "2    0\n",
       "3    0\n",
       "4    0\n",
       "Name: Purchased, dtype: int64"
      ]
     },
     "execution_count": 26,
     "metadata": {},
     "output_type": "execute_result"
    }
   ],
   "source": [
    "y.head()"
   ]
  },
  {
   "cell_type": "markdown",
   "metadata": {},
   "source": [
    "## Print count of each label in Purchased column"
   ]
  },
  {
   "cell_type": "code",
   "execution_count": 27,
   "metadata": {},
   "outputs": [
    {
     "data": {
      "text/plain": [
       "0    257\n",
       "1    143\n",
       "Name: Purchased, dtype: int64"
      ]
     },
     "execution_count": 27,
     "metadata": {},
     "output_type": "execute_result"
    }
   ],
   "source": [
    "y.value_counts()"
   ]
  },
  {
   "cell_type": "markdown",
   "metadata": {},
   "source": [
    "## Print Correlation of each feature in the dataset"
   ]
  },
  {
   "cell_type": "code",
   "execution_count": 28,
   "metadata": {},
   "outputs": [
    {
     "data": {
      "text/html": [
       "<div>\n",
       "<style scoped>\n",
       "    .dataframe tbody tr th:only-of-type {\n",
       "        vertical-align: middle;\n",
       "    }\n",
       "\n",
       "    .dataframe tbody tr th {\n",
       "        vertical-align: top;\n",
       "    }\n",
       "\n",
       "    .dataframe thead th {\n",
       "        text-align: right;\n",
       "    }\n",
       "</style>\n",
       "<table border=\"1\" class=\"dataframe\">\n",
       "  <thead>\n",
       "    <tr style=\"text-align: right;\">\n",
       "      <th></th>\n",
       "      <th>User ID</th>\n",
       "      <th>Age</th>\n",
       "      <th>EstimatedSalary</th>\n",
       "      <th>Purchased</th>\n",
       "    </tr>\n",
       "  </thead>\n",
       "  <tbody>\n",
       "    <tr>\n",
       "      <th>User ID</th>\n",
       "      <td>1.000000</td>\n",
       "      <td>-0.000721</td>\n",
       "      <td>0.071097</td>\n",
       "      <td>0.007120</td>\n",
       "    </tr>\n",
       "    <tr>\n",
       "      <th>Age</th>\n",
       "      <td>-0.000721</td>\n",
       "      <td>1.000000</td>\n",
       "      <td>0.155238</td>\n",
       "      <td>0.622454</td>\n",
       "    </tr>\n",
       "    <tr>\n",
       "      <th>EstimatedSalary</th>\n",
       "      <td>0.071097</td>\n",
       "      <td>0.155238</td>\n",
       "      <td>1.000000</td>\n",
       "      <td>0.362083</td>\n",
       "    </tr>\n",
       "    <tr>\n",
       "      <th>Purchased</th>\n",
       "      <td>0.007120</td>\n",
       "      <td>0.622454</td>\n",
       "      <td>0.362083</td>\n",
       "      <td>1.000000</td>\n",
       "    </tr>\n",
       "  </tbody>\n",
       "</table>\n",
       "</div>"
      ],
      "text/plain": [
       "                  User ID       Age  EstimatedSalary  Purchased\n",
       "User ID          1.000000 -0.000721         0.071097   0.007120\n",
       "Age             -0.000721  1.000000         0.155238   0.622454\n",
       "EstimatedSalary  0.071097  0.155238         1.000000   0.362083\n",
       "Purchased        0.007120  0.622454         0.362083   1.000000"
      ]
     },
     "execution_count": 28,
     "metadata": {},
     "output_type": "execute_result"
    }
   ],
   "source": [
    "dataset.corr()"
   ]
  },
  {
   "cell_type": "markdown",
   "metadata": {},
   "source": [
    "# First: Logistic Regression model"
   ]
  },
  {
   "cell_type": "markdown",
   "metadata": {
    "colab_type": "text",
    "id": "YvxIPVyMhmKp"
   },
   "source": [
    "## Split the dataset into Training set and Test set with test_size = 0.25 and random_state = 0"
   ]
  },
  {
   "cell_type": "code",
   "execution_count": 29,
   "metadata": {
    "colab": {},
    "colab_type": "code",
    "id": "AVzJWAXIhxoC"
   },
   "outputs": [
    {
     "data": {
      "text/html": [
       "<div>\n",
       "<style scoped>\n",
       "    .dataframe tbody tr th:only-of-type {\n",
       "        vertical-align: middle;\n",
       "    }\n",
       "\n",
       "    .dataframe tbody tr th {\n",
       "        vertical-align: top;\n",
       "    }\n",
       "\n",
       "    .dataframe thead th {\n",
       "        text-align: right;\n",
       "    }\n",
       "</style>\n",
       "<table border=\"1\" class=\"dataframe\">\n",
       "  <thead>\n",
       "    <tr style=\"text-align: right;\">\n",
       "      <th></th>\n",
       "      <th>Age</th>\n",
       "      <th>EstimatedSalary</th>\n",
       "    </tr>\n",
       "  </thead>\n",
       "  <tbody>\n",
       "    <tr>\n",
       "      <th>250</th>\n",
       "      <td>44</td>\n",
       "      <td>39000</td>\n",
       "    </tr>\n",
       "    <tr>\n",
       "      <th>63</th>\n",
       "      <td>32</td>\n",
       "      <td>120000</td>\n",
       "    </tr>\n",
       "    <tr>\n",
       "      <th>312</th>\n",
       "      <td>38</td>\n",
       "      <td>50000</td>\n",
       "    </tr>\n",
       "    <tr>\n",
       "      <th>159</th>\n",
       "      <td>32</td>\n",
       "      <td>135000</td>\n",
       "    </tr>\n",
       "    <tr>\n",
       "      <th>283</th>\n",
       "      <td>52</td>\n",
       "      <td>21000</td>\n",
       "    </tr>\n",
       "  </tbody>\n",
       "</table>\n",
       "</div>"
      ],
      "text/plain": [
       "     Age  EstimatedSalary\n",
       "250   44            39000\n",
       "63    32           120000\n",
       "312   38            50000\n",
       "159   32           135000\n",
       "283   52            21000"
      ]
     },
     "execution_count": 29,
     "metadata": {},
     "output_type": "execute_result"
    }
   ],
   "source": [
    "X_train, X_test, y_train, y_test = train_test_split(X, y, test_size=0.25, random_state = 0)\n",
    "X_train.head()"
   ]
  },
  {
   "cell_type": "markdown",
   "metadata": {
    "colab_type": "text",
    "id": "bb6jCOCQiAmP"
   },
   "source": [
    "## Train the model with random_state = 0"
   ]
  },
  {
   "cell_type": "code",
   "execution_count": 30,
   "metadata": {
    "colab": {
     "base_uri": "https://localhost:8080/",
     "height": 103
    },
    "colab_type": "code",
    "executionInfo": {
     "elapsed": 2125,
     "status": "ok",
     "timestamp": 1588265315505,
     "user": {
      "displayName": "Hadelin de Ponteves",
      "photoUrl": "https://lh3.googleusercontent.com/a-/AOh14GhEuXdT7eQweUmRPW8_laJuPggSK6hfvpl5a6WBaA=s64",
      "userId": "15047218817161520419"
     },
     "user_tz": -240
    },
    "id": "e0pFVAmciHQs",
    "outputId": "67f64468-abdb-4fe7-cce9-de0037119610"
   },
   "outputs": [
    {
     "data": {
      "text/plain": [
       "LogisticRegression(random_state=0)"
      ]
     },
     "execution_count": 30,
     "metadata": {},
     "output_type": "execute_result"
    }
   ],
   "source": [
    "logmodel = LogisticRegression(random_state=0)\n",
    "logmodel"
   ]
  },
  {
   "cell_type": "markdown",
   "metadata": {
    "colab_type": "text",
    "id": "vKYVQH-l5NpE"
   },
   "source": [
    "## Print the prediction results"
   ]
  },
  {
   "cell_type": "code",
   "execution_count": 31,
   "metadata": {
    "colab": {
     "base_uri": "https://localhost:8080/",
     "height": 1000
    },
    "colab_type": "code",
    "executionInfo": {
     "elapsed": 2112,
     "status": "ok",
     "timestamp": 1588265315506,
     "user": {
      "displayName": "Hadelin de Ponteves",
      "photoUrl": "https://lh3.googleusercontent.com/a-/AOh14GhEuXdT7eQweUmRPW8_laJuPggSK6hfvpl5a6WBaA=s64",
      "userId": "15047218817161520419"
     },
     "user_tz": -240
    },
    "id": "p6VMTb2O4hwM",
    "outputId": "a4f03a97-2942-45cd-f735-f4063277a96c"
   },
   "outputs": [],
   "source": [
    "logmodel.fit(X_train,y_train)\n",
    "predictions = logmodel.predict(X_test)"
   ]
  },
  {
   "cell_type": "code",
   "execution_count": 32,
   "metadata": {},
   "outputs": [
    {
     "data": {
      "text/html": [
       "<div>\n",
       "<style scoped>\n",
       "    .dataframe tbody tr th:only-of-type {\n",
       "        vertical-align: middle;\n",
       "    }\n",
       "\n",
       "    .dataframe tbody tr th {\n",
       "        vertical-align: top;\n",
       "    }\n",
       "\n",
       "    .dataframe thead th {\n",
       "        text-align: right;\n",
       "    }\n",
       "</style>\n",
       "<table border=\"1\" class=\"dataframe\">\n",
       "  <thead>\n",
       "    <tr style=\"text-align: right;\">\n",
       "      <th></th>\n",
       "      <th>Purchased</th>\n",
       "      <th>predictions</th>\n",
       "    </tr>\n",
       "  </thead>\n",
       "  <tbody>\n",
       "    <tr>\n",
       "      <th>132</th>\n",
       "      <td>0</td>\n",
       "      <td>0</td>\n",
       "    </tr>\n",
       "    <tr>\n",
       "      <th>309</th>\n",
       "      <td>0</td>\n",
       "      <td>0</td>\n",
       "    </tr>\n",
       "    <tr>\n",
       "      <th>341</th>\n",
       "      <td>0</td>\n",
       "      <td>0</td>\n",
       "    </tr>\n",
       "    <tr>\n",
       "      <th>196</th>\n",
       "      <td>0</td>\n",
       "      <td>0</td>\n",
       "    </tr>\n",
       "    <tr>\n",
       "      <th>246</th>\n",
       "      <td>0</td>\n",
       "      <td>0</td>\n",
       "    </tr>\n",
       "    <tr>\n",
       "      <th>...</th>\n",
       "      <td>...</td>\n",
       "      <td>...</td>\n",
       "    </tr>\n",
       "    <tr>\n",
       "      <th>146</th>\n",
       "      <td>1</td>\n",
       "      <td>0</td>\n",
       "    </tr>\n",
       "    <tr>\n",
       "      <th>135</th>\n",
       "      <td>0</td>\n",
       "      <td>0</td>\n",
       "    </tr>\n",
       "    <tr>\n",
       "      <th>390</th>\n",
       "      <td>1</td>\n",
       "      <td>0</td>\n",
       "    </tr>\n",
       "    <tr>\n",
       "      <th>264</th>\n",
       "      <td>1</td>\n",
       "      <td>0</td>\n",
       "    </tr>\n",
       "    <tr>\n",
       "      <th>364</th>\n",
       "      <td>1</td>\n",
       "      <td>0</td>\n",
       "    </tr>\n",
       "  </tbody>\n",
       "</table>\n",
       "<p>100 rows × 2 columns</p>\n",
       "</div>"
      ],
      "text/plain": [
       "     Purchased  predictions\n",
       "132          0            0\n",
       "309          0            0\n",
       "341          0            0\n",
       "196          0            0\n",
       "246          0            0\n",
       "..         ...          ...\n",
       "146          1            0\n",
       "135          0            0\n",
       "390          1            0\n",
       "264          1            0\n",
       "364          1            0\n",
       "\n",
       "[100 rows x 2 columns]"
      ]
     },
     "execution_count": 32,
     "metadata": {},
     "output_type": "execute_result"
    }
   ],
   "source": [
    "comp_result = pd.DataFrame(y_test)\n",
    "comp_result['predictions']= predictions\n",
    "comp_result"
   ]
  },
  {
   "cell_type": "markdown",
   "metadata": {},
   "source": [
    "## Create dataframe with the Actual Purchased and Predict Purchased"
   ]
  },
  {
   "cell_type": "code",
   "execution_count": 33,
   "metadata": {
    "scrolled": false
   },
   "outputs": [
    {
     "data": {
      "text/html": [
       "<div>\n",
       "<style scoped>\n",
       "    .dataframe tbody tr th:only-of-type {\n",
       "        vertical-align: middle;\n",
       "    }\n",
       "\n",
       "    .dataframe tbody tr th {\n",
       "        vertical-align: top;\n",
       "    }\n",
       "\n",
       "    .dataframe thead th {\n",
       "        text-align: right;\n",
       "    }\n",
       "</style>\n",
       "<table border=\"1\" class=\"dataframe\">\n",
       "  <thead>\n",
       "    <tr style=\"text-align: right;\">\n",
       "      <th></th>\n",
       "      <th>Age</th>\n",
       "      <th>EstimatedSalary</th>\n",
       "      <th>Actual Purchased</th>\n",
       "      <th>Predict_Purchased</th>\n",
       "    </tr>\n",
       "  </thead>\n",
       "  <tbody>\n",
       "    <tr>\n",
       "      <th>132</th>\n",
       "      <td>30</td>\n",
       "      <td>87000</td>\n",
       "      <td>0</td>\n",
       "      <td>0</td>\n",
       "    </tr>\n",
       "    <tr>\n",
       "      <th>309</th>\n",
       "      <td>38</td>\n",
       "      <td>50000</td>\n",
       "      <td>0</td>\n",
       "      <td>0</td>\n",
       "    </tr>\n",
       "    <tr>\n",
       "      <th>341</th>\n",
       "      <td>35</td>\n",
       "      <td>75000</td>\n",
       "      <td>0</td>\n",
       "      <td>0</td>\n",
       "    </tr>\n",
       "    <tr>\n",
       "      <th>196</th>\n",
       "      <td>30</td>\n",
       "      <td>79000</td>\n",
       "      <td>0</td>\n",
       "      <td>0</td>\n",
       "    </tr>\n",
       "    <tr>\n",
       "      <th>246</th>\n",
       "      <td>35</td>\n",
       "      <td>50000</td>\n",
       "      <td>0</td>\n",
       "      <td>0</td>\n",
       "    </tr>\n",
       "    <tr>\n",
       "      <th>...</th>\n",
       "      <td>...</td>\n",
       "      <td>...</td>\n",
       "      <td>...</td>\n",
       "      <td>...</td>\n",
       "    </tr>\n",
       "    <tr>\n",
       "      <th>146</th>\n",
       "      <td>27</td>\n",
       "      <td>96000</td>\n",
       "      <td>1</td>\n",
       "      <td>0</td>\n",
       "    </tr>\n",
       "    <tr>\n",
       "      <th>135</th>\n",
       "      <td>23</td>\n",
       "      <td>63000</td>\n",
       "      <td>0</td>\n",
       "      <td>0</td>\n",
       "    </tr>\n",
       "    <tr>\n",
       "      <th>390</th>\n",
       "      <td>48</td>\n",
       "      <td>33000</td>\n",
       "      <td>1</td>\n",
       "      <td>0</td>\n",
       "    </tr>\n",
       "    <tr>\n",
       "      <th>264</th>\n",
       "      <td>48</td>\n",
       "      <td>90000</td>\n",
       "      <td>1</td>\n",
       "      <td>0</td>\n",
       "    </tr>\n",
       "    <tr>\n",
       "      <th>364</th>\n",
       "      <td>42</td>\n",
       "      <td>104000</td>\n",
       "      <td>1</td>\n",
       "      <td>0</td>\n",
       "    </tr>\n",
       "  </tbody>\n",
       "</table>\n",
       "<p>100 rows × 4 columns</p>\n",
       "</div>"
      ],
      "text/plain": [
       "     Age  EstimatedSalary  Actual Purchased  Predict_Purchased\n",
       "132   30            87000                 0                  0\n",
       "309   38            50000                 0                  0\n",
       "341   35            75000                 0                  0\n",
       "196   30            79000                 0                  0\n",
       "246   35            50000                 0                  0\n",
       "..   ...              ...               ...                ...\n",
       "146   27            96000                 1                  0\n",
       "135   23            63000                 0                  0\n",
       "390   48            33000                 1                  0\n",
       "264   48            90000                 1                  0\n",
       "364   42           104000                 1                  0\n",
       "\n",
       "[100 rows x 4 columns]"
      ]
     },
     "execution_count": 33,
     "metadata": {},
     "output_type": "execute_result"
    }
   ],
   "source": [
    "actual = X_test.copy()\n",
    "actual['Actual Purchased'] = y_test\n",
    "actual['Predict_Purchased'] = predictions\n",
    "actual"
   ]
  },
  {
   "cell_type": "code",
   "execution_count": 42,
   "metadata": {},
   "outputs": [
    {
     "ename": "NameError",
     "evalue": "name 'test_dataset' is not defined",
     "output_type": "error",
     "traceback": [
      "\u001b[0;31m---------------------------------------------------------------------------\u001b[0m",
      "\u001b[0;31mNameError\u001b[0m                                 Traceback (most recent call last)",
      "\u001b[0;32m<ipython-input-42-b4c78539543a>\u001b[0m in \u001b[0;36m<module>\u001b[0;34m\u001b[0m\n\u001b[0;32m----> 1\u001b[0;31m \u001b[0;34m(\u001b[0m\u001b[0mtest_dataset\u001b[0m\u001b[0;34m[\u001b[0m\u001b[0;34m'Actual_Purchased'\u001b[0m\u001b[0;34m]\u001b[0m \u001b[0;34m==\u001b[0m \u001b[0mtest_dataset\u001b[0m\u001b[0;34m[\u001b[0m\u001b[0;34m'Predict_Purchased'\u001b[0m\u001b[0;34m]\u001b[0m\u001b[0;34m)\u001b[0m\u001b[0;34m.\u001b[0m\u001b[0mvalue_counts\u001b[0m\u001b[0;34m(\u001b[0m\u001b[0;34m)\u001b[0m\u001b[0;34m\u001b[0m\u001b[0;34m\u001b[0m\u001b[0m\n\u001b[0m",
      "\u001b[0;31mNameError\u001b[0m: name 'test_dataset' is not defined"
     ]
    }
   ],
   "source": [
    "(test_dataset['Actual_Purchased'] == test_dataset['Predict_Purchased']).value_counts()"
   ]
  },
  {
   "cell_type": "markdown",
   "metadata": {
    "colab_type": "text",
    "id": "h4Hwj34ziWQW"
   },
   "source": [
    "## Print Confusion Matrix and classification_report"
   ]
  },
  {
   "cell_type": "code",
   "execution_count": null,
   "metadata": {
    "colab": {
     "base_uri": "https://localhost:8080/",
     "height": 68
    },
    "colab_type": "code",
    "executionInfo": {
     "elapsed": 2107,
     "status": "ok",
     "timestamp": 1588265315506,
     "user": {
      "displayName": "Hadelin de Ponteves",
      "photoUrl": "https://lh3.googleusercontent.com/a-/AOh14GhEuXdT7eQweUmRPW8_laJuPggSK6hfvpl5a6WBaA=s64",
      "userId": "15047218817161520419"
     },
     "user_tz": -240
    },
    "id": "D6bpZwUiiXic",
    "outputId": "f202fcb3-5882-4d93-e5df-50791185067e"
   },
   "outputs": [],
   "source": []
  },
  {
   "cell_type": "code",
   "execution_count": 35,
   "metadata": {},
   "outputs": [
    {
     "name": "stdout",
     "output_type": "stream",
     "text": [
      "              precision    recall  f1-score   support\n",
      "\n",
      "           0       0.68      1.00      0.81        68\n",
      "           1       0.00      0.00      0.00        32\n",
      "\n",
      "    accuracy                           0.68       100\n",
      "   macro avg       0.34      0.50      0.40       100\n",
      "weighted avg       0.46      0.68      0.55       100\n",
      "\n",
      "[[68  0]\n",
      " [32  0]]\n",
      "0.68\n"
     ]
    }
   ],
   "source": [
    "from sklearn.metrics import classification_report, confusion_matrix, accuracy_score\n",
    "print(classification_report(y_test,predictions))\n",
    "print(confusion_matrix(y_test,predictions))\n",
    "print(accuracy_score(y_test,predictions))"
   ]
  },
  {
   "cell_type": "code",
   "execution_count": 36,
   "metadata": {},
   "outputs": [
    {
     "ename": "NameError",
     "evalue": "name 'classifier' is not defined",
     "output_type": "error",
     "traceback": [
      "\u001b[0;31m---------------------------------------------------------------------------\u001b[0m",
      "\u001b[0;31mNameError\u001b[0m                                 Traceback (most recent call last)",
      "\u001b[0;32m<ipython-input-36-ed71759742cd>\u001b[0m in \u001b[0;36m<module>\u001b[0;34m\u001b[0m\n\u001b[0;32m----> 1\u001b[0;31m \u001b[0mplot_confusion_matrix\u001b[0m\u001b[0;34m(\u001b[0m\u001b[0mclassifier\u001b[0m\u001b[0;34m,\u001b[0m \u001b[0mX\u001b[0m\u001b[0;34m=\u001b[0m\u001b[0mX_test\u001b[0m\u001b[0;34m,\u001b[0m \u001b[0my_true\u001b[0m\u001b[0;34m=\u001b[0m\u001b[0my_test\u001b[0m\u001b[0;34m,\u001b[0m \u001b[0mcmap\u001b[0m\u001b[0;34m=\u001b[0m\u001b[0;34m'Blues'\u001b[0m\u001b[0;34m)\u001b[0m\u001b[0;34m;\u001b[0m\u001b[0;34m\u001b[0m\u001b[0;34m\u001b[0m\u001b[0m\n\u001b[0m",
      "\u001b[0;31mNameError\u001b[0m: name 'classifier' is not defined"
     ]
    }
   ],
   "source": [
    "plot_confusion_matrix(classifier, X=X_test, y_true=y_test, cmap='Blues');"
   ]
  },
  {
   "cell_type": "markdown",
   "metadata": {
    "colab_type": "text",
    "id": "kW3c7UYih0hT"
   },
   "source": [
    "## Use StandardScaler() to improved performance and re-train your model"
   ]
  },
  {
   "cell_type": "code",
   "execution_count": 37,
   "metadata": {
    "colab": {},
    "colab_type": "code",
    "id": "9fQlDPKCh8sc"
   },
   "outputs": [
    {
     "name": "stdout",
     "output_type": "stream",
     "text": [
      "[[-1.78179743 -1.49004624]\n",
      " [-0.25358736 -1.46068138]\n",
      " [-1.11320552 -0.78528968]\n",
      " [-1.01769239 -0.37418169]\n",
      " [-1.78179743  0.18375059]\n",
      " [-1.01769239 -0.34481683]\n",
      " [-1.01769239  0.41866944]\n",
      " [-0.54012675  2.35674998]\n",
      " [-1.20871865 -1.07893824]\n",
      " [-0.25358736 -0.13926283]\n",
      " [-1.11320552  0.30121002]\n",
      " [-1.11320552 -0.52100597]\n",
      " [-1.6862843   0.47739916]\n",
      " [-0.54012675 -1.51941109]\n",
      " [-1.87731056  0.35993973]\n",
      " [-0.82666613  0.30121002]\n",
      " [ 0.89257019 -1.3138571 ]\n",
      " [ 0.70154394 -1.28449224]\n",
      " [ 0.79705706 -1.22576253]\n",
      " [ 0.98808332 -1.19639767]\n",
      " [ 0.70154394 -1.40195167]\n",
      " [ 0.89257019 -0.60910054]\n",
      " [ 0.98808332 -0.84401939]\n",
      " [ 0.70154394 -1.40195167]\n",
      " [ 0.79705706 -1.37258681]\n",
      " [ 0.89257019 -1.46068138]\n",
      " [ 1.08359645 -1.22576253]\n",
      " [ 0.89257019 -1.16703281]\n",
      " [-0.82666613 -0.78528968]\n",
      " [-0.63563988 -1.51941109]\n",
      " [-0.63563988  0.12502088]\n",
      " [-1.01769239  1.97500684]\n",
      " [-1.59077117 -1.5781408 ]\n",
      " [-0.92217926 -0.75592482]\n",
      " [-1.01769239  0.59485858]\n",
      " [-0.25358736 -1.25512738]\n",
      " [-0.44461362 -1.22576253]\n",
      " [-0.73115301 -0.60910054]\n",
      " [-1.11320552  0.06629116]\n",
      " [-1.01769239 -1.13766796]\n",
      " [-1.01769239 -1.54877595]\n",
      " [-0.44461362 -0.55037082]\n",
      " [-0.25358736  1.123426  ]\n",
      " [-0.73115301 -1.60750566]\n",
      " [-0.92217926  0.41866944]\n",
      " [-1.39974491 -1.46068138]\n",
      " [-1.20871865  0.27184516]\n",
      " [-1.01769239 -0.46227625]\n",
      " [-0.73115301  1.91627713]\n",
      " [-0.63563988  0.56549373]\n",
      " [-1.30423178 -1.1083031 ]\n",
      " [-1.87731056 -0.75592482]\n",
      " [-0.82666613  0.38930459]\n",
      " [-0.25358736 -1.37258681]\n",
      " [-1.01769239 -0.34481683]\n",
      " [-1.30423178 -0.4329114 ]\n",
      " [-1.39974491 -0.63846539]\n",
      " [-0.92217926  0.27184516]\n",
      " [-1.49525804 -1.51941109]\n",
      " [-0.54012675  1.38770971]\n",
      " [-1.01769239 -1.46068138]\n",
      " [-1.20871865  0.50676401]\n",
      " [-1.39974491 -0.10989798]\n",
      " [-0.54012675  1.47580428]\n",
      " [ 2.03872775  0.38930459]\n",
      " [-1.30423178 -0.34481683]\n",
      " [-1.30423178 -1.49004624]\n",
      " [-1.39974491  0.35993973]\n",
      " [-1.49525804 -0.19799255]\n",
      " [-0.63563988 -0.05116826]\n",
      " [-1.20871865  0.30121002]\n",
      " [-1.30423178 -1.25512738]\n",
      " [-1.6862843  -1.37258681]\n",
      " [-0.44461362  1.27025028]\n",
      " [-0.54012675 -1.51941109]\n",
      " [-0.34910049  1.24088543]\n",
      " [-1.87731056 -0.52100597]\n",
      " [-1.49525804 -1.25512738]\n",
      " [-0.92217926  0.50676401]\n",
      " [-1.11320552 -1.54877595]\n",
      " [-0.73115301  0.30121002]\n",
      " [ 0.12846516 -0.81465453]\n",
      " [-1.6862843  -0.60910054]\n",
      " [-0.25358736  0.53612887]\n",
      " [-0.73115301 -0.2273574 ]\n",
      " [-0.63563988  1.41707457]\n",
      " [-1.30423178 -0.4329114 ]\n",
      " [-0.92217926  0.4480343 ]\n",
      " [-1.11320552  0.33057487]\n",
      " [-0.25358736 -0.57973568]\n",
      " [-1.49525804  0.33057487]\n",
      " [-0.73115301  1.35834485]\n",
      " [-1.11320552 -1.60750566]\n",
      " [-0.82666613 -1.22576253]\n",
      " [-0.82666613  0.38930459]\n",
      " [-0.25358736 -0.75592482]\n",
      " [-0.25358736 -1.3138571 ]\n",
      " [-0.92217926  1.56389885]\n",
      " [-0.25358736  0.09565602]\n",
      " [-0.92217926 -0.96147882]\n",
      " [-1.01769239  0.53612887]\n",
      " [-0.92217926 -0.31545197]\n",
      " [-0.54012675  0.47739916]\n",
      " [-0.44461362  2.32738512]\n",
      " [-1.78179743 -1.43131652]\n",
      " [-1.59077117  0.06629116]\n",
      " [-1.11320552 -1.02020853]\n",
      " [-1.01769239  0.56549373]\n",
      " [-1.11320552  0.47739916]\n",
      " [ 0.03295203  0.30121002]\n",
      " [ 0.12846516  0.03692631]\n",
      " [-0.0625611   0.03692631]\n",
      " [ 0.03295203 -0.25672226]\n",
      " [-0.0625611  -0.4329114 ]\n",
      " [ 0.41500455  0.30121002]\n",
      " [ 0.22397829 -0.37418169]\n",
      " [-0.25358736  0.15438573]\n",
      " [-0.15807423 -0.52100597]\n",
      " [ 0.22397829 -0.31545197]\n",
      " [ 0.31949142 -0.31545197]\n",
      " [-0.15807423  0.15438573]\n",
      " [-0.0625611   0.06629116]\n",
      " [ 0.22397829  0.15438573]\n",
      " [-0.25358736 -0.49164111]\n",
      " [ 0.31949142 -0.55037082]\n",
      " [ 0.12846516 -0.25672226]\n",
      " [ 0.41500455 -0.13926283]\n",
      " [-1.11320552 -1.1083031 ]\n",
      " [-0.73115301 -1.54877595]\n",
      " [-1.11320552  0.41866944]\n",
      " [-0.63563988 -0.34481683]\n",
      " [-0.44461362 -1.13766796]\n",
      " [-0.73115301  0.50676401]\n",
      " [-1.59077117 -0.05116826]\n",
      " [-0.92217926 -0.4329114 ]\n",
      " [-1.39974491 -0.19799255]\n",
      " [-1.6862843   0.35993973]\n",
      " [-0.73115301  1.09406114]\n",
      " [-0.92217926 -0.31545197]\n",
      " [-1.78179743 -1.3138571 ]\n",
      " [-1.78179743  0.4480343 ]\n",
      " [-1.87731056 -0.05116826]\n",
      " [-0.25358736 -0.31545197]\n",
      " [-0.73115301  0.56549373]\n",
      " [-0.34910049 -1.3138571 ]\n",
      " [-1.30423178  0.56549373]\n",
      " [-1.01769239  0.77104772]\n",
      " [ 0.31949142 -1.16703281]\n",
      " [-0.82666613 -0.25672226]\n",
      " [-1.6862843   0.12502088]\n",
      " [-1.11320552 -1.60750566]\n",
      " [ 0.31949142 -0.72655996]\n",
      " [-0.63563988  0.18375059]\n",
      " [-0.15807423 -0.57973568]\n",
      " [ 0.22397829 -0.66783025]\n",
      " [-0.63563988 -1.60750566]\n",
      " [ 0.79705706 -0.31545197]\n",
      " [-0.82666613  0.15438573]\n",
      " [-1.11320552 -1.16703281]\n",
      " [-0.54012675  1.91627713]\n",
      " [-0.54012675  0.88850715]\n",
      " [-1.20871865  0.59485858]\n",
      " [-0.0625611  -1.07893824]\n",
      " [-0.25358736 -0.93211396]\n",
      " [-0.44461362 -0.02180341]\n",
      " [-1.87731056  0.47739916]\n",
      " [-1.49525804 -0.4329114 ]\n",
      " [-0.25358736  0.03692631]\n",
      " [-0.82666613  2.29802026]\n",
      " [-0.82666613 -0.66783025]\n",
      " [-1.59077117  0.53612887]\n",
      " [-0.34910049  1.32898   ]\n",
      " [-1.11320552  1.41707457]\n",
      " [-0.34910049 -0.78528968]\n",
      " [-0.34910049  0.06629116]\n",
      " [-1.39974491 -1.22576253]\n",
      " [-0.25358736 -0.66783025]\n",
      " [-1.20871865 -1.40195167]\n",
      " [-1.30423178 -1.37258681]\n",
      " [-0.63563988 -1.04957339]\n",
      " [-1.11320552 -1.5781408 ]\n",
      " [-0.63563988  0.03692631]\n",
      " [-0.54012675  1.38770971]\n",
      " [-0.44461362 -0.78528968]\n",
      " [-0.44461362 -0.28608712]\n",
      " [-0.63563988 -0.10989798]\n",
      " [-1.6862843   0.35993973]\n",
      " [-0.44461362 -0.84401939]\n",
      " [-0.25358736  0.06629116]\n",
      " [-0.92217926 -1.1083031 ]\n",
      " [-1.30423178  0.41866944]\n",
      " [-1.78179743 -1.28449224]\n",
      " [-0.82666613 -0.78528968]\n",
      " [-1.78179743  0.00756145]\n",
      " [-0.92217926  0.56549373]\n",
      " [-0.34910049 -0.78528968]\n",
      " [-0.73115301  0.27184516]\n",
      " [-1.6862843  -0.99084367]\n",
      " [-1.11320552  0.30121002]\n",
      " [-0.25358736 -1.40195167]\n",
      " [-0.25358736 -0.9027491 ]\n",
      " [ 1.08359645  0.12502088]\n",
      " [ 0.12846516  1.88691227]\n",
      " [ 0.31949142  0.03692631]\n",
      " [ 1.94321462  0.917872  ]\n",
      " [ 0.89257019 -0.66783025]\n",
      " [ 1.65667523  1.76945285]\n",
      " [ 1.37013584  1.29961514]\n",
      " [ 0.22397829  2.12183112]\n",
      " [ 0.79705706 -1.40195167]\n",
      " [ 0.98808332  0.77104772]\n",
      " [ 1.37013584  2.35674998]\n",
      " [ 2.03872775 -0.81465453]\n",
      " [-0.25358736 -0.34481683]\n",
      " [ 0.89257019 -0.78528968]\n",
      " [ 2.13424088  1.123426  ]\n",
      " [ 1.08359645 -0.13926283]\n",
      " [ 0.22397829  0.2424803 ]\n",
      " [ 0.79705706  0.77104772]\n",
      " [ 2.03872775  2.15119598]\n",
      " [ 0.31949142  0.30121002]\n",
      " [-0.25358736  0.62422344]\n",
      " [-0.0625611   2.18056084]\n",
      " [ 2.13424088  0.94723686]\n",
      " [-0.25358736 -0.28608712]\n",
      " [-0.0625611  -0.49164111]\n",
      " [-0.15807423  1.65199342]\n",
      " [ 1.75218836  1.85754742]\n",
      " [ 0.22397829  0.06629116]\n",
      " [ 0.41500455  0.30121002]\n",
      " [-0.25358736  2.26865541]\n",
      " [ 0.12846516 -0.81465453]\n",
      " [ 0.22397829  1.09406114]\n",
      " [ 1.08359645  0.47739916]\n",
      " [ 0.03295203  1.24088543]\n",
      " [ 0.79705706  0.27184516]\n",
      " [ 0.22397829 -0.37418169]\n",
      " [-0.0625611   0.30121002]\n",
      " [ 0.79705706  0.35993973]\n",
      " [ 1.46564897  2.15119598]\n",
      " [ 0.41500455  2.32738512]\n",
      " [ 0.03295203 -0.31545197]\n",
      " [ 1.17910958  0.53612887]\n",
      " [ 1.75218836  1.00596657]\n",
      " [ 0.31949142  0.06629116]\n",
      " [ 1.27462271  2.23929055]\n",
      " [-0.25358736 -0.57973568]\n",
      " [ 1.84770149  1.53453399]\n",
      " [ 0.31949142 -0.52100597]\n",
      " [-0.25358736  0.80041258]\n",
      " [ 0.60603081 -0.9027491 ]\n",
      " [-0.0625611  -0.52100597]\n",
      " [ 0.98808332  1.88691227]\n",
      " [-0.0625611   2.23929055]\n",
      " [ 1.17910958 -0.75592482]\n",
      " [ 1.37013584  0.59485858]\n",
      " [ 0.31949142  0.06629116]\n",
      " [ 0.22397829 -0.37418169]\n",
      " [ 1.94321462  0.74168287]\n",
      " [ 0.70154394  1.7988177 ]\n",
      " [-0.25358736  0.21311545]\n",
      " [-0.15807423  2.18056084]\n",
      " [ 1.65667523  1.62262856]\n",
      " [-0.25358736  0.06629116]\n",
      " [ 0.98808332  0.59485858]\n",
      " [ 0.41500455  1.123426  ]\n",
      " [ 0.22397829  0.15438573]\n",
      " [-0.0625611   0.12502088]\n",
      " [ 0.89257019  2.18056084]\n",
      " [ 0.22397829 -0.25672226]\n",
      " [ 0.51051768  1.85754742]\n",
      " [ 2.03872775  0.18375059]\n",
      " [ 2.13424088 -0.81465453]\n",
      " [ 0.12846516  1.06469629]\n",
      " [ 1.84770149 -1.28449224]\n",
      " [ 1.84770149  0.12502088]\n",
      " [ 0.03295203  0.03692631]\n",
      " [ 1.08359645  0.53612887]\n",
      " [ 1.37013584 -0.93211396]\n",
      " [ 1.17910958 -0.99084367]\n",
      " [ 2.03872775  0.53612887]\n",
      " [-0.25358736 -0.25672226]\n",
      " [-0.0625611   0.00756145]\n",
      " [ 1.37013584 -1.43131652]\n",
      " [ 0.98808332  2.09246627]\n",
      " [-0.0625611   0.68295315]\n",
      " [-0.0625611  -0.2273574 ]\n",
      " [ 0.98808332  2.0043717 ]\n",
      " [ 0.31949142  0.27184516]\n",
      " [-0.0625611   0.2424803 ]\n",
      " [ 0.12846516  1.88691227]\n",
      " [ 1.08359645  0.56549373]\n",
      " [ 1.65667523 -0.9027491 ]\n",
      " [-0.0625611   0.21311545]\n",
      " [-0.25358736 -0.37418169]\n",
      " [-0.15807423 -0.19799255]\n",
      " [ 0.41500455  0.09565602]\n",
      " [ 0.51051768  1.24088543]\n",
      " [ 0.70154394  0.27184516]\n",
      " [ 0.79705706  1.38770971]\n",
      " [ 1.94321462 -0.93211396]\n",
      " [ 0.98808332  0.12502088]\n",
      " [-0.0625611   1.97500684]\n",
      " [-0.0625611   0.27184516]\n",
      " [ 0.22397829 -0.28608712]\n",
      " [ 0.41500455 -0.46227625]\n",
      " [ 1.27462271  1.88691227]\n",
      " [ 0.89257019  1.27025028]\n",
      " [-0.15807423  1.62262856]\n",
      " [ 0.03295203 -0.57973568]\n",
      " [ 0.41500455  0.00756145]\n",
      " [ 0.12846516  0.77104772]\n",
      " [ 0.03295203 -0.57973568]\n",
      " [ 1.08359645  2.09246627]\n",
      " [ 0.12846516  0.27184516]\n",
      " [ 0.12846516  0.15438573]\n",
      " [ 1.5611621   1.00596657]\n",
      " [-0.25358736 -0.4329114 ]\n",
      " [ 0.70154394 -1.1083031 ]\n",
      " [-0.15807423 -0.28608712]\n",
      " [ 1.37013584  2.0043717 ]\n",
      " [ 1.46564897  0.35993973]\n",
      " [ 0.31949142 -0.52100597]\n",
      " [ 0.98808332 -1.16703281]\n",
      " [ 0.98808332  1.7988177 ]\n",
      " [ 0.31949142 -0.28608712]\n",
      " [ 0.31949142  0.06629116]\n",
      " [ 0.41500455  0.15438573]\n",
      " [-0.15807423  1.41707457]\n",
      " [ 0.89257019  1.09406114]\n",
      " [ 0.03295203 -0.55037082]\n",
      " [ 0.98808332  1.44643942]\n",
      " [ 0.41500455 -0.13926283]\n",
      " [ 0.22397829 -0.13926283]\n",
      " [ 1.84770149 -0.28608712]\n",
      " [-0.15807423 -0.46227625]\n",
      " [ 1.94321462  2.18056084]\n",
      " [-0.25358736  0.27184516]\n",
      " [ 0.03295203 -0.4329114 ]\n",
      " [ 0.12846516  1.53453399]\n",
      " [ 1.46564897  1.00596657]\n",
      " [-0.25358736  0.15438573]\n",
      " [ 0.03295203 -0.13926283]\n",
      " [ 0.89257019 -0.55037082]\n",
      " [ 0.89257019  1.03533143]\n",
      " [ 0.31949142 -0.19799255]\n",
      " [ 1.46564897  0.06629116]\n",
      " [ 1.5611621   1.123426  ]\n",
      " [ 0.12846516  0.21311545]\n",
      " [ 0.03295203 -0.25672226]\n",
      " [ 0.03295203  1.27025028]\n",
      " [-0.0625611   0.15438573]\n",
      " [ 0.41500455  0.59485858]\n",
      " [-0.0625611  -0.37418169]\n",
      " [-0.15807423  0.85914229]\n",
      " [ 2.13424088 -1.04957339]\n",
      " [ 1.5611621   0.00756145]\n",
      " [ 0.31949142  0.06629116]\n",
      " [ 0.22397829  0.03692631]\n",
      " [ 0.41500455 -0.46227625]\n",
      " [ 0.51051768  1.74008799]\n",
      " [ 1.46564897 -1.04957339]\n",
      " [ 0.89257019 -0.57973568]\n",
      " [ 0.41500455  0.27184516]\n",
      " [ 0.41500455  1.00596657]\n",
      " [ 2.03872775 -1.19639767]\n",
      " [ 1.94321462 -0.66783025]\n",
      " [ 0.79705706  0.53612887]\n",
      " [ 0.03295203  0.03692631]\n",
      " [ 1.5611621  -1.28449224]\n",
      " [ 2.13424088 -0.69719511]\n",
      " [ 2.13424088  0.38930459]\n",
      " [ 0.12846516  0.09565602]\n",
      " [ 2.03872775  1.76945285]\n",
      " [-0.0625611   0.30121002]\n",
      " [ 0.79705706 -1.1083031 ]\n",
      " [ 0.79705706  0.12502088]\n",
      " [ 0.41500455 -0.49164111]\n",
      " [ 0.31949142  0.50676401]\n",
      " [ 1.94321462 -1.37258681]\n",
      " [ 0.41500455 -0.16862769]\n",
      " [ 0.98808332 -1.07893824]\n",
      " [ 0.60603081  2.03373655]\n",
      " [ 1.08359645 -1.22576253]\n",
      " [ 1.84770149 -1.07893824]\n",
      " [ 1.75218836 -0.28608712]\n",
      " [ 1.08359645 -0.9027491 ]\n",
      " [ 0.12846516  0.03692631]\n",
      " [ 0.89257019 -1.04957339]\n",
      " [ 0.98808332 -1.02020853]\n",
      " [ 0.98808332 -1.07893824]\n",
      " [ 0.89257019 -1.37258681]\n",
      " [ 0.70154394 -0.72655996]\n",
      " [ 2.13424088 -0.81465453]\n",
      " [ 0.12846516 -0.31545197]\n",
      " [ 0.79705706 -0.84401939]\n",
      " [ 1.27462271 -1.37258681]\n",
      " [ 1.17910958 -1.46068138]\n",
      " [-0.15807423 -1.07893824]\n",
      " [ 1.08359645 -0.99084367]]\n"
     ]
    }
   ],
   "source": [
    "from sklearn.datasets import load_iris\n",
    "from sklearn.preprocessing import StandardScaler\n",
    " \n",
    "object= StandardScaler()\n",
    "\n",
    "scale = object.fit_transform(X) \n",
    "print(scale)"
   ]
  },
  {
   "cell_type": "code",
   "execution_count": null,
   "metadata": {},
   "outputs": [],
   "source": []
  },
  {
   "cell_type": "code",
   "execution_count": 38,
   "metadata": {},
   "outputs": [
    {
     "ename": "NameError",
     "evalue": "name 'y_pred' is not defined",
     "output_type": "error",
     "traceback": [
      "\u001b[0;31m---------------------------------------------------------------------------\u001b[0m",
      "\u001b[0;31mNameError\u001b[0m                                 Traceback (most recent call last)",
      "\u001b[0;32m<ipython-input-38-e7622b950e3d>\u001b[0m in \u001b[0;36m<module>\u001b[0;34m\u001b[0m\n\u001b[0;32m----> 1\u001b[0;31m \u001b[0mprint\u001b[0m\u001b[0;34m(\u001b[0m\u001b[0mclassification_report\u001b[0m\u001b[0;34m(\u001b[0m\u001b[0my_test\u001b[0m\u001b[0;34m,\u001b[0m \u001b[0my_pred\u001b[0m\u001b[0;34m)\u001b[0m\u001b[0;34m)\u001b[0m\u001b[0;34m\u001b[0m\u001b[0;34m\u001b[0m\u001b[0m\n\u001b[0m",
      "\u001b[0;31mNameError\u001b[0m: name 'y_pred' is not defined"
     ]
    }
   ],
   "source": [
    "print(classification_report(y_test, y_pred))"
   ]
  },
  {
   "cell_type": "markdown",
   "metadata": {
    "colab_type": "text",
    "id": "yyxW5b395mR2"
   },
   "source": [
    "## Try to Predicting a new result - e.g: person with Age = 30 and Salary = 90,000"
   ]
  },
  {
   "cell_type": "code",
   "execution_count": 39,
   "metadata": {
    "colab": {
     "base_uri": "https://localhost:8080/",
     "height": 34
    },
    "colab_type": "code",
    "executionInfo": {
     "elapsed": 2118,
     "status": "ok",
     "timestamp": 1588265315505,
     "user": {
      "displayName": "Hadelin de Ponteves",
      "photoUrl": "https://lh3.googleusercontent.com/a-/AOh14GhEuXdT7eQweUmRPW8_laJuPggSK6hfvpl5a6WBaA=s64",
      "userId": "15047218817161520419"
     },
     "user_tz": -240
    },
    "id": "f8YOXsQy58rP",
    "outputId": "2e1b0063-548e-4924-cf3a-93a79d97e35e"
   },
   "outputs": [
    {
     "ename": "AttributeError",
     "evalue": "'DataFrame' object has no attribute 'predict'",
     "output_type": "error",
     "traceback": [
      "\u001b[0;31m---------------------------------------------------------------------------\u001b[0m",
      "\u001b[0;31mAttributeError\u001b[0m                            Traceback (most recent call last)",
      "\u001b[0;32m<ipython-input-39-04dc36adf624>\u001b[0m in \u001b[0;36m<module>\u001b[0;34m\u001b[0m\n\u001b[1;32m      1\u001b[0m \u001b[0;32mfrom\u001b[0m \u001b[0msklearn\u001b[0m\u001b[0;34m.\u001b[0m\u001b[0mpreprocessing\u001b[0m \u001b[0;32mimport\u001b[0m \u001b[0mStandardScaler\u001b[0m\u001b[0;34m\u001b[0m\u001b[0;34m\u001b[0m\u001b[0m\n\u001b[0;32m----> 2\u001b[0;31m \u001b[0mdataset\u001b[0m\u001b[0;34m.\u001b[0m\u001b[0mpredict\u001b[0m\u001b[0;34m(\u001b[0m\u001b[0;34m[\u001b[0m\u001b[0;34m[\u001b[0m\u001b[0;36m30\u001b[0m\u001b[0;34m,\u001b[0m\u001b[0;36m90000\u001b[0m\u001b[0;34m]\u001b[0m\u001b[0;34m]\u001b[0m\u001b[0;34m)\u001b[0m\u001b[0;34m\u001b[0m\u001b[0;34m\u001b[0m\u001b[0m\n\u001b[0m",
      "\u001b[0;32m~/opt/anaconda3/lib/python3.8/site-packages/pandas/core/generic.py\u001b[0m in \u001b[0;36m__getattr__\u001b[0;34m(self, name)\u001b[0m\n\u001b[1;32m   5463\u001b[0m             \u001b[0;32mif\u001b[0m \u001b[0mself\u001b[0m\u001b[0;34m.\u001b[0m\u001b[0m_info_axis\u001b[0m\u001b[0;34m.\u001b[0m\u001b[0m_can_hold_identifiers_and_holds_name\u001b[0m\u001b[0;34m(\u001b[0m\u001b[0mname\u001b[0m\u001b[0;34m)\u001b[0m\u001b[0;34m:\u001b[0m\u001b[0;34m\u001b[0m\u001b[0;34m\u001b[0m\u001b[0m\n\u001b[1;32m   5464\u001b[0m                 \u001b[0;32mreturn\u001b[0m \u001b[0mself\u001b[0m\u001b[0;34m[\u001b[0m\u001b[0mname\u001b[0m\u001b[0;34m]\u001b[0m\u001b[0;34m\u001b[0m\u001b[0;34m\u001b[0m\u001b[0m\n\u001b[0;32m-> 5465\u001b[0;31m             \u001b[0;32mreturn\u001b[0m \u001b[0mobject\u001b[0m\u001b[0;34m.\u001b[0m\u001b[0m__getattribute__\u001b[0m\u001b[0;34m(\u001b[0m\u001b[0mself\u001b[0m\u001b[0;34m,\u001b[0m \u001b[0mname\u001b[0m\u001b[0;34m)\u001b[0m\u001b[0;34m\u001b[0m\u001b[0;34m\u001b[0m\u001b[0m\n\u001b[0m\u001b[1;32m   5466\u001b[0m \u001b[0;34m\u001b[0m\u001b[0m\n\u001b[1;32m   5467\u001b[0m     \u001b[0;32mdef\u001b[0m \u001b[0m__setattr__\u001b[0m\u001b[0;34m(\u001b[0m\u001b[0mself\u001b[0m\u001b[0;34m,\u001b[0m \u001b[0mname\u001b[0m\u001b[0;34m:\u001b[0m \u001b[0mstr\u001b[0m\u001b[0;34m,\u001b[0m \u001b[0mvalue\u001b[0m\u001b[0;34m)\u001b[0m \u001b[0;34m->\u001b[0m \u001b[0;32mNone\u001b[0m\u001b[0;34m:\u001b[0m\u001b[0;34m\u001b[0m\u001b[0;34m\u001b[0m\u001b[0m\n",
      "\u001b[0;31mAttributeError\u001b[0m: 'DataFrame' object has no attribute 'predict'"
     ]
    }
   ],
   "source": [
    "from sklearn.preprocessing import StandardScaler\n",
    "dataset.predict([[30,90000]])"
   ]
  },
  {
   "cell_type": "markdown",
   "metadata": {},
   "source": [
    "## Try to Predicting a new result - e.g: person with Age = 40 and Salary = 90,000"
   ]
  },
  {
   "cell_type": "code",
   "execution_count": null,
   "metadata": {},
   "outputs": [],
   "source": []
  },
  {
   "cell_type": "markdown",
   "metadata": {},
   "source": [
    "# Second: k-nearest neighbors model"
   ]
  },
  {
   "cell_type": "code",
   "execution_count": 40,
   "metadata": {},
   "outputs": [
    {
     "name": "stdout",
     "output_type": "stream",
     "text": [
      "[[59  9]\n",
      " [ 8 24]]\n",
      "              precision    recall  f1-score   support\n",
      "\n",
      "           0       0.88      0.87      0.87        68\n",
      "           1       0.73      0.75      0.74        32\n",
      "\n",
      "    accuracy                           0.83       100\n",
      "   macro avg       0.80      0.81      0.81       100\n",
      "weighted avg       0.83      0.83      0.83       100\n",
      "\n"
     ]
    },
    {
     "data": {
      "image/png": "[encoded data removed]",
      "text/plain": [
       "<Figure size 432x288 with 2 Axes>"
      ]
     },
     "metadata": {
      "needs_background": "light"
     },
     "output_type": "display_data"
    }
   ],
   "source": [
    "from sklearn.neighbors import KNeighborsClassifier\n",
    "from sklearn.metrics import ConfusionMatrixDisplay\n",
    "from sklearn.metrics import confusion_matrix\n",
    "knn=KNeighborsClassifier()\n",
    "knn.fit(X_train,y_train)\n",
    "pred=knn.predict(X_test)\n",
    "cm=confusion_matrix(y_test,pred)\n",
    "print(cm)\n",
    "print(classification_report(y_test,pred))\n",
    "disp=ConfusionMatrixDisplay(cm)\n",
    "disp.plot()\n",
    "plt.show()"
   ]
  },
  {
   "cell_type": "code",
   "execution_count": null,
   "metadata": {},
   "outputs": [],
   "source": []
  },
  {
   "cell_type": "code",
   "execution_count": null,
   "metadata": {},
   "outputs": [],
   "source": []
  }
 ],
 "metadata": {
  "colab": {
   "authorship_tag": "ABX9TyOsvB/iqEjYj3VN6C/JbvkE",
   "collapsed_sections": [],
   "machine_shape": "hm",
   "name": "logistic_regression.ipynb",
   "provenance": [],
   "toc_visible": true
  },
  "kernelspec": {
   "display_name": "Python 3",
   "language": "python",
   "name": "python3"
  },
  "language_info": {
   "codemirror_mode": {
    "name": "ipython",
    "version": 3
   },
   "file_extension": ".py",
   "mimetype": "text/x-python",
   "name": "python",
   "nbconvert_exporter": "python",
   "pygments_lexer": "ipython3",
   "version": "3.8.8"
  }
 },
 "nbformat": 4,
 "nbformat_minor": 1
}
